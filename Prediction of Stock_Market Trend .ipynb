{
 "cells": [
  {
   "cell_type": "code",
   "execution_count": 1,
   "id": "6fb3b1ac",
   "metadata": {},
   "outputs": [],
   "source": [
    "#Install yfinance - historical market data from yahoo finance"
   ]
  },
  {
   "cell_type": "code",
   "execution_count": 2,
   "id": "6567c5e2",
   "metadata": {},
   "outputs": [
    {
     "name": "stdout",
     "output_type": "stream",
     "text": [
      "Requirement already satisfied: yfinance in c:\\users\\dell\\anaconda3\\lib\\site-packages (0.2.24)Note: you may need to restart the kernel to use updated packages.\n",
      "Requirement already satisfied: appdirs>=1.4.4 in c:\\users\\dell\\anaconda3\\lib\\site-packages (from yfinance) (1.4.4)\n",
      "Requirement already satisfied: beautifulsoup4>=4.11.1 in c:\\users\\dell\\anaconda3\\lib\\site-packages (from yfinance) (4.11.1)\n",
      "Requirement already satisfied: pandas>=1.3.0 in c:\\users\\dell\\anaconda3\\lib\\site-packages (from yfinance) (1.4.2)\n",
      "Requirement already satisfied: pytz>=2022.5 in c:\\users\\dell\\anaconda3\\lib\\site-packages (from yfinance) (2023.3)\n",
      "Requirement already satisfied: multitasking>=0.0.7 in c:\\users\\dell\\anaconda3\\lib\\site-packages (from yfinance) (0.0.11)\n",
      "Requirement already satisfied: numpy>=1.16.5 in c:\\users\\dell\\anaconda3\\lib\\site-packages (from yfinance) (1.21.5)\n",
      "Requirement already satisfied: frozendict>=2.3.4 in c:\\users\\dell\\anaconda3\\lib\\site-packages (from yfinance) (2.3.8)\n",
      "Requirement already satisfied: lxml>=4.9.1 in c:\\users\\dell\\anaconda3\\lib\\site-packages (from yfinance) (4.9.3)\n",
      "Requirement already satisfied: html5lib>=1.1 in c:\\users\\dell\\anaconda3\\lib\\site-packages (from yfinance) (1.1)\n",
      "Requirement already satisfied: requests>=2.26 in c:\\users\\dell\\anaconda3\\lib\\site-packages (from yfinance) (2.27.1)\n",
      "Requirement already satisfied: soupsieve>1.2 in c:\\users\\dell\\anaconda3\\lib\\site-packages (from beautifulsoup4>=4.11.1->yfinance) (2.3.1)\n",
      "Requirement already satisfied: six>=1.9 in c:\\users\\dell\\anaconda3\\lib\\site-packages (from html5lib>=1.1->yfinance) (1.16.0)\n",
      "Requirement already satisfied: webencodings in c:\\users\\dell\\anaconda3\\lib\\site-packages (from html5lib>=1.1->yfinance) (0.5.1)\n",
      "Requirement already satisfied: python-dateutil>=2.8.1 in c:\\users\\dell\\anaconda3\\lib\\site-packages (from pandas>=1.3.0->yfinance) (2.8.2)\n",
      "Requirement already satisfied: urllib3<1.27,>=1.21.1 in c:\\users\\dell\\anaconda3\\lib\\site-packages (from requests>=2.26->yfinance) (1.26.9)\n",
      "Requirement already satisfied: idna<4,>=2.5 in c:\\users\\dell\\anaconda3\\lib\\site-packages (from requests>=2.26->yfinance) (3.3)\n",
      "Requirement already satisfied: charset-normalizer~=2.0.0 in c:\\users\\dell\\anaconda3\\lib\\site-packages (from requests>=2.26->yfinance) (2.0.4)\n",
      "Requirement already satisfied: certifi>=2017.4.17 in c:\\users\\dell\\anaconda3\\lib\\site-packages (from requests>=2.26->yfinance) (2021.10.8)\n",
      "\n"
     ]
    }
   ],
   "source": [
    "pip install yfinance"
   ]
  },
  {
   "cell_type": "code",
   "execution_count": 67,
   "id": "353f9433",
   "metadata": {},
   "outputs": [],
   "source": [
    "import yfinance as yf\n",
    "import pandas as pd"
   ]
  },
  {
   "cell_type": "code",
   "execution_count": 68,
   "id": "83581c3c",
   "metadata": {},
   "outputs": [],
   "source": [
    "sp500=yf.Ticker(\"^GSPC\")"
   ]
  },
  {
   "cell_type": "code",
   "execution_count": 69,
   "id": "36423df4",
   "metadata": {},
   "outputs": [
    {
     "data": {
      "text/plain": [
       "yfinance.Ticker object <^GSPC>"
      ]
     },
     "execution_count": 69,
     "metadata": {},
     "output_type": "execute_result"
    }
   ],
   "source": [
    "sp500"
   ]
  },
  {
   "cell_type": "code",
   "execution_count": 70,
   "id": "cb4b9c5a",
   "metadata": {},
   "outputs": [],
   "source": [
    "sp500=sp500.history(period=\"max\")"
   ]
  },
  {
   "cell_type": "code",
   "execution_count": 71,
   "id": "51d03599",
   "metadata": {},
   "outputs": [
    {
     "data": {
      "text/html": [
       "<div>\n",
       "<style scoped>\n",
       "    .dataframe tbody tr th:only-of-type {\n",
       "        vertical-align: middle;\n",
       "    }\n",
       "\n",
       "    .dataframe tbody tr th {\n",
       "        vertical-align: top;\n",
       "    }\n",
       "\n",
       "    .dataframe thead th {\n",
       "        text-align: right;\n",
       "    }\n",
       "</style>\n",
       "<table border=\"1\" class=\"dataframe\">\n",
       "  <thead>\n",
       "    <tr style=\"text-align: right;\">\n",
       "      <th></th>\n",
       "      <th>Open</th>\n",
       "      <th>High</th>\n",
       "      <th>Low</th>\n",
       "      <th>Close</th>\n",
       "      <th>Volume</th>\n",
       "      <th>Dividends</th>\n",
       "      <th>Stock Splits</th>\n",
       "    </tr>\n",
       "    <tr>\n",
       "      <th>Date</th>\n",
       "      <th></th>\n",
       "      <th></th>\n",
       "      <th></th>\n",
       "      <th></th>\n",
       "      <th></th>\n",
       "      <th></th>\n",
       "      <th></th>\n",
       "    </tr>\n",
       "  </thead>\n",
       "  <tbody>\n",
       "    <tr>\n",
       "      <th>1927-12-30 00:00:00-05:00</th>\n",
       "      <td>17.660000</td>\n",
       "      <td>17.660000</td>\n",
       "      <td>17.660000</td>\n",
       "      <td>17.660000</td>\n",
       "      <td>0</td>\n",
       "      <td>0.0</td>\n",
       "      <td>0.0</td>\n",
       "    </tr>\n",
       "    <tr>\n",
       "      <th>1928-01-03 00:00:00-05:00</th>\n",
       "      <td>17.760000</td>\n",
       "      <td>17.760000</td>\n",
       "      <td>17.760000</td>\n",
       "      <td>17.760000</td>\n",
       "      <td>0</td>\n",
       "      <td>0.0</td>\n",
       "      <td>0.0</td>\n",
       "    </tr>\n",
       "    <tr>\n",
       "      <th>1928-01-04 00:00:00-05:00</th>\n",
       "      <td>17.719999</td>\n",
       "      <td>17.719999</td>\n",
       "      <td>17.719999</td>\n",
       "      <td>17.719999</td>\n",
       "      <td>0</td>\n",
       "      <td>0.0</td>\n",
       "      <td>0.0</td>\n",
       "    </tr>\n",
       "    <tr>\n",
       "      <th>1928-01-05 00:00:00-05:00</th>\n",
       "      <td>17.549999</td>\n",
       "      <td>17.549999</td>\n",
       "      <td>17.549999</td>\n",
       "      <td>17.549999</td>\n",
       "      <td>0</td>\n",
       "      <td>0.0</td>\n",
       "      <td>0.0</td>\n",
       "    </tr>\n",
       "    <tr>\n",
       "      <th>1928-01-06 00:00:00-05:00</th>\n",
       "      <td>17.660000</td>\n",
       "      <td>17.660000</td>\n",
       "      <td>17.660000</td>\n",
       "      <td>17.660000</td>\n",
       "      <td>0</td>\n",
       "      <td>0.0</td>\n",
       "      <td>0.0</td>\n",
       "    </tr>\n",
       "  </tbody>\n",
       "</table>\n",
       "</div>"
      ],
      "text/plain": [
       "                                Open       High        Low      Close  Volume  \\\n",
       "Date                                                                            \n",
       "1927-12-30 00:00:00-05:00  17.660000  17.660000  17.660000  17.660000       0   \n",
       "1928-01-03 00:00:00-05:00  17.760000  17.760000  17.760000  17.760000       0   \n",
       "1928-01-04 00:00:00-05:00  17.719999  17.719999  17.719999  17.719999       0   \n",
       "1928-01-05 00:00:00-05:00  17.549999  17.549999  17.549999  17.549999       0   \n",
       "1928-01-06 00:00:00-05:00  17.660000  17.660000  17.660000  17.660000       0   \n",
       "\n",
       "                           Dividends  Stock Splits  \n",
       "Date                                                \n",
       "1927-12-30 00:00:00-05:00        0.0           0.0  \n",
       "1928-01-03 00:00:00-05:00        0.0           0.0  \n",
       "1928-01-04 00:00:00-05:00        0.0           0.0  \n",
       "1928-01-05 00:00:00-05:00        0.0           0.0  \n",
       "1928-01-06 00:00:00-05:00        0.0           0.0  "
      ]
     },
     "execution_count": 71,
     "metadata": {},
     "output_type": "execute_result"
    }
   ],
   "source": [
    "sp500.head()"
   ]
  },
  {
   "cell_type": "code",
   "execution_count": 72,
   "id": "1504fe96",
   "metadata": {},
   "outputs": [],
   "source": [
    "sp500=pd.DataFrame(sp500)"
   ]
  },
  {
   "cell_type": "code",
   "execution_count": 9,
   "id": "34c9b58e",
   "metadata": {},
   "outputs": [],
   "source": [
    "#Dropping irrelevant columns"
   ]
  },
  {
   "cell_type": "code",
   "execution_count": 73,
   "id": "f8ac398f",
   "metadata": {},
   "outputs": [],
   "source": [
    "sp500.drop('Dividends',axis=1,inplace=True)"
   ]
  },
  {
   "cell_type": "code",
   "execution_count": 74,
   "id": "ca1c9a0c",
   "metadata": {},
   "outputs": [],
   "source": [
    "sp500.drop('Stock Splits',axis=1,inplace=True)"
   ]
  },
  {
   "cell_type": "code",
   "execution_count": 75,
   "id": "2ce30503",
   "metadata": {},
   "outputs": [
    {
     "data": {
      "text/plain": [
       "Index(['Open', 'High', 'Low', 'Close', 'Volume'], dtype='object')"
      ]
     },
     "execution_count": 75,
     "metadata": {},
     "output_type": "execute_result"
    }
   ],
   "source": [
    "sp500.columns"
   ]
  },
  {
   "cell_type": "code",
   "execution_count": 76,
   "id": "38f3c698",
   "metadata": {},
   "outputs": [
    {
     "data": {
      "text/plain": [
       "DatetimeIndex(['1927-12-30 00:00:00-05:00', '1928-01-03 00:00:00-05:00',\n",
       "               '1928-01-04 00:00:00-05:00', '1928-01-05 00:00:00-05:00',\n",
       "               '1928-01-06 00:00:00-05:00', '1928-01-09 00:00:00-05:00',\n",
       "               '1928-01-10 00:00:00-05:00', '1928-01-11 00:00:00-05:00',\n",
       "               '1928-01-12 00:00:00-05:00', '1928-01-13 00:00:00-05:00',\n",
       "               ...\n",
       "               '2023-07-03 00:00:00-04:00', '2023-07-05 00:00:00-04:00',\n",
       "               '2023-07-06 00:00:00-04:00', '2023-07-07 00:00:00-04:00',\n",
       "               '2023-07-10 00:00:00-04:00', '2023-07-11 00:00:00-04:00',\n",
       "               '2023-07-12 00:00:00-04:00', '2023-07-13 00:00:00-04:00',\n",
       "               '2023-07-14 00:00:00-04:00', '2023-07-17 00:00:00-04:00'],\n",
       "              dtype='datetime64[ns, America/New_York]', name='Date', length=23999, freq=None)"
      ]
     },
     "execution_count": 76,
     "metadata": {},
     "output_type": "execute_result"
    }
   ],
   "source": [
    "sp500.index"
   ]
  },
  {
   "cell_type": "code",
   "execution_count": 77,
   "id": "9eaa96a7",
   "metadata": {},
   "outputs": [],
   "source": [
    "import matplotlib.pyplot as plt"
   ]
  },
  {
   "cell_type": "code",
   "execution_count": 78,
   "id": "581c1eea",
   "metadata": {},
   "outputs": [],
   "source": [
    "close=sp500['Close']"
   ]
  },
  {
   "cell_type": "code",
   "execution_count": 79,
   "id": "d747a16d",
   "metadata": {},
   "outputs": [],
   "source": [
    "index=sp500.index"
   ]
  },
  {
   "cell_type": "code",
   "execution_count": 80,
   "id": "55dc5a0c",
   "metadata": {},
   "outputs": [
    {
     "data": {
      "image/png": "[encoded data removed]",
      "text/plain": [
       "<Figure size 432x288 with 1 Axes>"
      ]
     },
     "metadata": {
      "needs_background": "light"
     },
     "output_type": "display_data"
    }
   ],
   "source": [
    "plt.plot(index,close,'g')\n",
    "plt.xlabel(\"Year\")\n",
    "plt.ylabel(\"Closing Price\")\n",
    "#plt.axis(['1940','2023','1000','5000'])\n",
    "plt.grid(True)\n",
    "plt.legend('Year')\n",
    "plt.show()"
   ]
  },
  {
   "cell_type": "code",
   "execution_count": 18,
   "id": "347f5150",
   "metadata": {},
   "outputs": [],
   "source": [
    "#we do not need absolute price,we just need directionality - stock going up or stock going down"
   ]
  },
  {
   "cell_type": "code",
   "execution_count": 81,
   "id": "42d0bc3f",
   "metadata": {},
   "outputs": [],
   "source": [
    "sp500['Tommorow']=sp500['Close'].shift(-1)"
   ]
  },
  {
   "cell_type": "code",
   "execution_count": 82,
   "id": "4795b1e5",
   "metadata": {},
   "outputs": [],
   "source": [
    "sp500['Target']=(sp500['Tommorow']>sp500['Close']).astype(int)"
   ]
  },
  {
   "cell_type": "code",
   "execution_count": 83,
   "id": "27b32146",
   "metadata": {},
   "outputs": [
    {
     "data": {
      "text/html": [
       "<div>\n",
       "<style scoped>\n",
       "    .dataframe tbody tr th:only-of-type {\n",
       "        vertical-align: middle;\n",
       "    }\n",
       "\n",
       "    .dataframe tbody tr th {\n",
       "        vertical-align: top;\n",
       "    }\n",
       "\n",
       "    .dataframe thead th {\n",
       "        text-align: right;\n",
       "    }\n",
       "</style>\n",
       "<table border=\"1\" class=\"dataframe\">\n",
       "  <thead>\n",
       "    <tr style=\"text-align: right;\">\n",
       "      <th></th>\n",
       "      <th>Open</th>\n",
       "      <th>High</th>\n",
       "      <th>Low</th>\n",
       "      <th>Close</th>\n",
       "      <th>Volume</th>\n",
       "      <th>Tommorow</th>\n",
       "      <th>Target</th>\n",
       "    </tr>\n",
       "    <tr>\n",
       "      <th>Date</th>\n",
       "      <th></th>\n",
       "      <th></th>\n",
       "      <th></th>\n",
       "      <th></th>\n",
       "      <th></th>\n",
       "      <th></th>\n",
       "      <th></th>\n",
       "    </tr>\n",
       "  </thead>\n",
       "  <tbody>\n",
       "    <tr>\n",
       "      <th>1927-12-30 00:00:00-05:00</th>\n",
       "      <td>17.660000</td>\n",
       "      <td>17.660000</td>\n",
       "      <td>17.660000</td>\n",
       "      <td>17.660000</td>\n",
       "      <td>0</td>\n",
       "      <td>17.760000</td>\n",
       "      <td>1</td>\n",
       "    </tr>\n",
       "    <tr>\n",
       "      <th>1928-01-03 00:00:00-05:00</th>\n",
       "      <td>17.760000</td>\n",
       "      <td>17.760000</td>\n",
       "      <td>17.760000</td>\n",
       "      <td>17.760000</td>\n",
       "      <td>0</td>\n",
       "      <td>17.719999</td>\n",
       "      <td>0</td>\n",
       "    </tr>\n",
       "    <tr>\n",
       "      <th>1928-01-04 00:00:00-05:00</th>\n",
       "      <td>17.719999</td>\n",
       "      <td>17.719999</td>\n",
       "      <td>17.719999</td>\n",
       "      <td>17.719999</td>\n",
       "      <td>0</td>\n",
       "      <td>17.549999</td>\n",
       "      <td>0</td>\n",
       "    </tr>\n",
       "    <tr>\n",
       "      <th>1928-01-05 00:00:00-05:00</th>\n",
       "      <td>17.549999</td>\n",
       "      <td>17.549999</td>\n",
       "      <td>17.549999</td>\n",
       "      <td>17.549999</td>\n",
       "      <td>0</td>\n",
       "      <td>17.660000</td>\n",
       "      <td>1</td>\n",
       "    </tr>\n",
       "    <tr>\n",
       "      <th>1928-01-06 00:00:00-05:00</th>\n",
       "      <td>17.660000</td>\n",
       "      <td>17.660000</td>\n",
       "      <td>17.660000</td>\n",
       "      <td>17.660000</td>\n",
       "      <td>0</td>\n",
       "      <td>17.500000</td>\n",
       "      <td>0</td>\n",
       "    </tr>\n",
       "  </tbody>\n",
       "</table>\n",
       "</div>"
      ],
      "text/plain": [
       "                                Open       High        Low      Close  Volume  \\\n",
       "Date                                                                            \n",
       "1927-12-30 00:00:00-05:00  17.660000  17.660000  17.660000  17.660000       0   \n",
       "1928-01-03 00:00:00-05:00  17.760000  17.760000  17.760000  17.760000       0   \n",
       "1928-01-04 00:00:00-05:00  17.719999  17.719999  17.719999  17.719999       0   \n",
       "1928-01-05 00:00:00-05:00  17.549999  17.549999  17.549999  17.549999       0   \n",
       "1928-01-06 00:00:00-05:00  17.660000  17.660000  17.660000  17.660000       0   \n",
       "\n",
       "                            Tommorow  Target  \n",
       "Date                                          \n",
       "1927-12-30 00:00:00-05:00  17.760000       1  \n",
       "1928-01-03 00:00:00-05:00  17.719999       0  \n",
       "1928-01-04 00:00:00-05:00  17.549999       0  \n",
       "1928-01-05 00:00:00-05:00  17.660000       1  \n",
       "1928-01-06 00:00:00-05:00  17.500000       0  "
      ]
     },
     "execution_count": 83,
     "metadata": {},
     "output_type": "execute_result"
    }
   ],
   "source": [
    "sp500.head()"
   ]
  },
  {
   "cell_type": "code",
   "execution_count": null,
   "id": "40f48e9c",
   "metadata": {},
   "outputs": [],
   "source": [
    "#To find the trend of stock_market,the data before 1990s may not be that helpful....so we try to drop the datapoints"
   ]
  },
  {
   "cell_type": "code",
   "execution_count": 84,
   "id": "8842f1a9",
   "metadata": {},
   "outputs": [],
   "source": [
    "sp500=sp500.loc[\"1990-01-01\":]"
   ]
  },
  {
   "cell_type": "code",
   "execution_count": 86,
   "id": "5ba79b06",
   "metadata": {},
   "outputs": [
    {
     "data": {
      "text/html": [
       "<div>\n",
       "<style scoped>\n",
       "    .dataframe tbody tr th:only-of-type {\n",
       "        vertical-align: middle;\n",
       "    }\n",
       "\n",
       "    .dataframe tbody tr th {\n",
       "        vertical-align: top;\n",
       "    }\n",
       "\n",
       "    .dataframe thead th {\n",
       "        text-align: right;\n",
       "    }\n",
       "</style>\n",
       "<table border=\"1\" class=\"dataframe\">\n",
       "  <thead>\n",
       "    <tr style=\"text-align: right;\">\n",
       "      <th></th>\n",
       "      <th>Open</th>\n",
       "      <th>High</th>\n",
       "      <th>Low</th>\n",
       "      <th>Close</th>\n",
       "      <th>Volume</th>\n",
       "      <th>Tommorow</th>\n",
       "      <th>Target</th>\n",
       "    </tr>\n",
       "    <tr>\n",
       "      <th>Date</th>\n",
       "      <th></th>\n",
       "      <th></th>\n",
       "      <th></th>\n",
       "      <th></th>\n",
       "      <th></th>\n",
       "      <th></th>\n",
       "      <th></th>\n",
       "    </tr>\n",
       "  </thead>\n",
       "  <tbody>\n",
       "    <tr>\n",
       "      <th>1990-01-02 00:00:00-05:00</th>\n",
       "      <td>353.399994</td>\n",
       "      <td>359.690002</td>\n",
       "      <td>351.980011</td>\n",
       "      <td>359.690002</td>\n",
       "      <td>162070000</td>\n",
       "      <td>358.760010</td>\n",
       "      <td>0</td>\n",
       "    </tr>\n",
       "    <tr>\n",
       "      <th>1990-01-03 00:00:00-05:00</th>\n",
       "      <td>359.690002</td>\n",
       "      <td>360.589996</td>\n",
       "      <td>357.890015</td>\n",
       "      <td>358.760010</td>\n",
       "      <td>192330000</td>\n",
       "      <td>355.670013</td>\n",
       "      <td>0</td>\n",
       "    </tr>\n",
       "    <tr>\n",
       "      <th>1990-01-04 00:00:00-05:00</th>\n",
       "      <td>358.760010</td>\n",
       "      <td>358.760010</td>\n",
       "      <td>352.890015</td>\n",
       "      <td>355.670013</td>\n",
       "      <td>177000000</td>\n",
       "      <td>352.200012</td>\n",
       "      <td>0</td>\n",
       "    </tr>\n",
       "    <tr>\n",
       "      <th>1990-01-05 00:00:00-05:00</th>\n",
       "      <td>355.670013</td>\n",
       "      <td>355.670013</td>\n",
       "      <td>351.350006</td>\n",
       "      <td>352.200012</td>\n",
       "      <td>158530000</td>\n",
       "      <td>353.790009</td>\n",
       "      <td>1</td>\n",
       "    </tr>\n",
       "    <tr>\n",
       "      <th>1990-01-08 00:00:00-05:00</th>\n",
       "      <td>352.200012</td>\n",
       "      <td>354.239990</td>\n",
       "      <td>350.540009</td>\n",
       "      <td>353.790009</td>\n",
       "      <td>140110000</td>\n",
       "      <td>349.619995</td>\n",
       "      <td>0</td>\n",
       "    </tr>\n",
       "    <tr>\n",
       "      <th>...</th>\n",
       "      <td>...</td>\n",
       "      <td>...</td>\n",
       "      <td>...</td>\n",
       "      <td>...</td>\n",
       "      <td>...</td>\n",
       "      <td>...</td>\n",
       "      <td>...</td>\n",
       "    </tr>\n",
       "    <tr>\n",
       "      <th>2023-07-11 00:00:00-04:00</th>\n",
       "      <td>4415.549805</td>\n",
       "      <td>4443.640137</td>\n",
       "      <td>4408.459961</td>\n",
       "      <td>4439.259766</td>\n",
       "      <td>3624220000</td>\n",
       "      <td>4472.160156</td>\n",
       "      <td>1</td>\n",
       "    </tr>\n",
       "    <tr>\n",
       "      <th>2023-07-12 00:00:00-04:00</th>\n",
       "      <td>4467.689941</td>\n",
       "      <td>4488.339844</td>\n",
       "      <td>4463.229980</td>\n",
       "      <td>4472.160156</td>\n",
       "      <td>3920290000</td>\n",
       "      <td>4510.040039</td>\n",
       "      <td>1</td>\n",
       "    </tr>\n",
       "    <tr>\n",
       "      <th>2023-07-13 00:00:00-04:00</th>\n",
       "      <td>4491.500000</td>\n",
       "      <td>4517.379883</td>\n",
       "      <td>4489.359863</td>\n",
       "      <td>4510.040039</td>\n",
       "      <td>3839530000</td>\n",
       "      <td>4505.419922</td>\n",
       "      <td>0</td>\n",
       "    </tr>\n",
       "    <tr>\n",
       "      <th>2023-07-14 00:00:00-04:00</th>\n",
       "      <td>4514.609863</td>\n",
       "      <td>4527.759766</td>\n",
       "      <td>4499.560059</td>\n",
       "      <td>4505.419922</td>\n",
       "      <td>3647450000</td>\n",
       "      <td>4522.790039</td>\n",
       "      <td>1</td>\n",
       "    </tr>\n",
       "    <tr>\n",
       "      <th>2023-07-17 00:00:00-04:00</th>\n",
       "      <td>4508.859863</td>\n",
       "      <td>4532.850098</td>\n",
       "      <td>4504.899902</td>\n",
       "      <td>4522.790039</td>\n",
       "      <td>3538240000</td>\n",
       "      <td>NaN</td>\n",
       "      <td>0</td>\n",
       "    </tr>\n",
       "  </tbody>\n",
       "</table>\n",
       "<p>8449 rows × 7 columns</p>\n",
       "</div>"
      ],
      "text/plain": [
       "                                  Open         High          Low        Close  \\\n",
       "Date                                                                            \n",
       "1990-01-02 00:00:00-05:00   353.399994   359.690002   351.980011   359.690002   \n",
       "1990-01-03 00:00:00-05:00   359.690002   360.589996   357.890015   358.760010   \n",
       "1990-01-04 00:00:00-05:00   358.760010   358.760010   352.890015   355.670013   \n",
       "1990-01-05 00:00:00-05:00   355.670013   355.670013   351.350006   352.200012   \n",
       "1990-01-08 00:00:00-05:00   352.200012   354.239990   350.540009   353.790009   \n",
       "...                                ...          ...          ...          ...   \n",
       "2023-07-11 00:00:00-04:00  4415.549805  4443.640137  4408.459961  4439.259766   \n",
       "2023-07-12 00:00:00-04:00  4467.689941  4488.339844  4463.229980  4472.160156   \n",
       "2023-07-13 00:00:00-04:00  4491.500000  4517.379883  4489.359863  4510.040039   \n",
       "2023-07-14 00:00:00-04:00  4514.609863  4527.759766  4499.560059  4505.419922   \n",
       "2023-07-17 00:00:00-04:00  4508.859863  4532.850098  4504.899902  4522.790039   \n",
       "\n",
       "                               Volume     Tommorow  Target  \n",
       "Date                                                        \n",
       "1990-01-02 00:00:00-05:00   162070000   358.760010       0  \n",
       "1990-01-03 00:00:00-05:00   192330000   355.670013       0  \n",
       "1990-01-04 00:00:00-05:00   177000000   352.200012       0  \n",
       "1990-01-05 00:00:00-05:00   158530000   353.790009       1  \n",
       "1990-01-08 00:00:00-05:00   140110000   349.619995       0  \n",
       "...                               ...          ...     ...  \n",
       "2023-07-11 00:00:00-04:00  3624220000  4472.160156       1  \n",
       "2023-07-12 00:00:00-04:00  3920290000  4510.040039       1  \n",
       "2023-07-13 00:00:00-04:00  3839530000  4505.419922       0  \n",
       "2023-07-14 00:00:00-04:00  3647450000  4522.790039       1  \n",
       "2023-07-17 00:00:00-04:00  3538240000          NaN       0  \n",
       "\n",
       "[8449 rows x 7 columns]"
      ]
     },
     "execution_count": 86,
     "metadata": {},
     "output_type": "execute_result"
    }
   ],
   "source": [
    "sp500"
   ]
  },
  {
   "cell_type": "code",
   "execution_count": 24,
   "id": "f72aa900",
   "metadata": {},
   "outputs": [],
   "source": [
    "#Initial ML Model"
   ]
  },
  {
   "cell_type": "code",
   "execution_count": 87,
   "id": "0aa03d25",
   "metadata": {},
   "outputs": [],
   "source": [
    "from sklearn.ensemble import RandomForestClassifier"
   ]
  },
  {
   "cell_type": "code",
   "execution_count": 88,
   "id": "52f791da",
   "metadata": {},
   "outputs": [],
   "source": [
    "model1=RandomForestClassifier(n_estimators=100,min_samples_split=100,random_state=42)"
   ]
  },
  {
   "cell_type": "code",
   "execution_count": 27,
   "id": "3888049f",
   "metadata": {},
   "outputs": [],
   "source": [
    "#For time series we cannot use train_test_split as there is a chance of data leakage and violate the time-dependent nature of the data"
   ]
  },
  {
   "cell_type": "code",
   "execution_count": 89,
   "id": "09d4565e",
   "metadata": {},
   "outputs": [],
   "source": [
    "train=sp500.iloc[:-250]\n",
    "test=sp500.iloc[-250:]"
   ]
  },
  {
   "cell_type": "code",
   "execution_count": 90,
   "id": "c25a9bed",
   "metadata": {},
   "outputs": [
    {
     "name": "stdout",
     "output_type": "stream",
     "text": [
      "(8199, 7)\n",
      "(250, 7)\n"
     ]
    }
   ],
   "source": [
    "print(train.shape)\n",
    "print(test.shape)"
   ]
  },
  {
   "cell_type": "code",
   "execution_count": 91,
   "id": "2a9045b7",
   "metadata": {},
   "outputs": [],
   "source": [
    "predictors=['Open','Close','High','Low']"
   ]
  },
  {
   "cell_type": "code",
   "execution_count": 92,
   "id": "ee8c14db",
   "metadata": {},
   "outputs": [
    {
     "data": {
      "text/plain": [
       "RandomForestClassifier(min_samples_split=100, random_state=42)"
      ]
     },
     "execution_count": 92,
     "metadata": {},
     "output_type": "execute_result"
    }
   ],
   "source": [
    "model1.fit(train[predictors],train['Target'])"
   ]
  },
  {
   "cell_type": "code",
   "execution_count": 93,
   "id": "97258510",
   "metadata": {},
   "outputs": [],
   "source": [
    "from sklearn.metrics import precision_score"
   ]
  },
  {
   "cell_type": "code",
   "execution_count": 94,
   "id": "5f5d7210",
   "metadata": {},
   "outputs": [],
   "source": [
    "test_pred=model1.predict(test[predictors])"
   ]
  },
  {
   "cell_type": "code",
   "execution_count": 95,
   "id": "2e9c0f58",
   "metadata": {},
   "outputs": [
    {
     "data": {
      "text/plain": [
       "array([0, 0, 0, 0, 0, 0, 0, 1, 0, 0, 0, 0, 1, 0, 1, 1, 1, 0, 1, 1, 1, 1,\n",
       "       1, 1, 1, 1, 0, 1, 1, 1, 0, 0, 0, 0, 1, 0, 0, 1, 1, 0, 0, 1, 1, 0,\n",
       "       0, 1, 1, 1, 1, 1, 1, 1, 1, 0, 1, 1, 1, 1, 0, 0, 1, 0, 1, 1, 1, 1,\n",
       "       1, 1, 1, 1, 1, 0, 1, 1, 0, 1, 1, 1, 1, 1, 1, 1, 0, 0, 0, 0, 0, 0,\n",
       "       0, 0, 1, 1, 0, 0, 0, 1, 1, 1, 0, 0, 0, 0, 0, 1, 1, 1, 0, 0, 0, 1,\n",
       "       1, 1, 1, 1, 1, 1, 0, 1, 1, 1, 1, 0, 0, 0, 0, 1, 0, 1, 0, 1, 1, 0,\n",
       "       1, 1, 1, 1, 0, 1, 1, 1, 0, 1, 1, 1, 0, 0, 0, 1, 1, 1, 1, 1, 0, 1,\n",
       "       1, 0, 0, 1, 1, 1, 1, 0, 0, 1, 1, 1, 1, 0, 0, 1, 0, 0, 0, 1, 0, 1,\n",
       "       1, 1, 0, 1, 1, 1, 1, 1, 1, 0, 1, 1, 1, 0, 1, 1, 1, 1, 1, 0, 0, 1,\n",
       "       1, 0, 1, 0, 1, 1, 0, 0, 1, 0, 1, 0, 1, 1, 1, 1, 1, 1, 1, 0, 1, 1,\n",
       "       1, 1, 1, 1, 1, 1, 1, 1, 0, 1, 1, 0, 1, 0, 1, 1, 0, 0, 1, 1, 0, 1,\n",
       "       1, 0, 0, 1, 1, 1, 0, 1])"
      ]
     },
     "execution_count": 95,
     "metadata": {},
     "output_type": "execute_result"
    }
   ],
   "source": [
    "test_pred"
   ]
  },
  {
   "cell_type": "code",
   "execution_count": 96,
   "id": "0970cad7",
   "metadata": {},
   "outputs": [],
   "source": [
    "test_pred=pd.Series(test_pred,index=test.index,name='Predictions')"
   ]
  },
  {
   "cell_type": "code",
   "execution_count": 97,
   "id": "c492c079",
   "metadata": {},
   "outputs": [
    {
     "data": {
      "text/plain": [
       "Date\n",
       "2022-07-19 00:00:00-04:00    0\n",
       "2022-07-20 00:00:00-04:00    0\n",
       "2022-07-21 00:00:00-04:00    0\n",
       "2022-07-22 00:00:00-04:00    0\n",
       "2022-07-25 00:00:00-04:00    0\n",
       "                            ..\n",
       "2023-07-11 00:00:00-04:00    1\n",
       "2023-07-12 00:00:00-04:00    1\n",
       "2023-07-13 00:00:00-04:00    1\n",
       "2023-07-14 00:00:00-04:00    0\n",
       "2023-07-17 00:00:00-04:00    1\n",
       "Name: Predictions, Length: 250, dtype: int32"
      ]
     },
     "execution_count": 97,
     "metadata": {},
     "output_type": "execute_result"
    }
   ],
   "source": [
    "test_pred"
   ]
  },
  {
   "cell_type": "code",
   "execution_count": 98,
   "id": "d25dabfd",
   "metadata": {},
   "outputs": [
    {
     "data": {
      "text/plain": [
       "0.4551282051282051"
      ]
     },
     "execution_count": 98,
     "metadata": {},
     "output_type": "execute_result"
    }
   ],
   "source": [
    "precision_score(test['Target'],test_pred)"
   ]
  },
  {
   "cell_type": "code",
   "execution_count": 99,
   "id": "5299784c",
   "metadata": {},
   "outputs": [],
   "source": [
    "combined=pd.concat((test['Target'],test_pred),axis=1)"
   ]
  },
  {
   "cell_type": "code",
   "execution_count": 100,
   "id": "cd3e31a8",
   "metadata": {},
   "outputs": [
    {
     "data": {
      "text/html": [
       "<div>\n",
       "<style scoped>\n",
       "    .dataframe tbody tr th:only-of-type {\n",
       "        vertical-align: middle;\n",
       "    }\n",
       "\n",
       "    .dataframe tbody tr th {\n",
       "        vertical-align: top;\n",
       "    }\n",
       "\n",
       "    .dataframe thead th {\n",
       "        text-align: right;\n",
       "    }\n",
       "</style>\n",
       "<table border=\"1\" class=\"dataframe\">\n",
       "  <thead>\n",
       "    <tr style=\"text-align: right;\">\n",
       "      <th></th>\n",
       "      <th>Target</th>\n",
       "      <th>Predictions</th>\n",
       "    </tr>\n",
       "    <tr>\n",
       "      <th>Date</th>\n",
       "      <th></th>\n",
       "      <th></th>\n",
       "    </tr>\n",
       "  </thead>\n",
       "  <tbody>\n",
       "    <tr>\n",
       "      <th>2022-07-19 00:00:00-04:00</th>\n",
       "      <td>1</td>\n",
       "      <td>0</td>\n",
       "    </tr>\n",
       "    <tr>\n",
       "      <th>2022-07-20 00:00:00-04:00</th>\n",
       "      <td>1</td>\n",
       "      <td>0</td>\n",
       "    </tr>\n",
       "    <tr>\n",
       "      <th>2022-07-21 00:00:00-04:00</th>\n",
       "      <td>0</td>\n",
       "      <td>0</td>\n",
       "    </tr>\n",
       "    <tr>\n",
       "      <th>2022-07-22 00:00:00-04:00</th>\n",
       "      <td>1</td>\n",
       "      <td>0</td>\n",
       "    </tr>\n",
       "    <tr>\n",
       "      <th>2022-07-25 00:00:00-04:00</th>\n",
       "      <td>0</td>\n",
       "      <td>0</td>\n",
       "    </tr>\n",
       "  </tbody>\n",
       "</table>\n",
       "</div>"
      ],
      "text/plain": [
       "                           Target  Predictions\n",
       "Date                                          \n",
       "2022-07-19 00:00:00-04:00       1            0\n",
       "2022-07-20 00:00:00-04:00       1            0\n",
       "2022-07-21 00:00:00-04:00       0            0\n",
       "2022-07-22 00:00:00-04:00       1            0\n",
       "2022-07-25 00:00:00-04:00       0            0"
      ]
     },
     "execution_count": 100,
     "metadata": {},
     "output_type": "execute_result"
    }
   ],
   "source": [
    "combined.head()"
   ]
  },
  {
   "cell_type": "code",
   "execution_count": 101,
   "id": "cac24296",
   "metadata": {},
   "outputs": [
    {
     "data": {
      "text/plain": [
       "<AxesSubplot:xlabel='Date'>"
      ]
     },
     "execution_count": 101,
     "metadata": {},
     "output_type": "execute_result"
    },
    {
     "data": {
      "image/png": "[encoded data removed]",
      "text/plain": [
       "<Figure size 432x288 with 1 Axes>"
      ]
     },
     "metadata": {
      "needs_background": "light"
     },
     "output_type": "display_data"
    }
   ],
   "source": [
    "combined.plot()"
   ]
  },
  {
   "cell_type": "code",
   "execution_count": null,
   "id": "e2bd0cc3",
   "metadata": {},
   "outputs": [],
   "source": [
    "#BackTesting to improve accuracy,In Backtesting we try to increase the accuracy by predicting the targets for every year by fitting initial 10 years data."
   ]
  },
  {
   "cell_type": "code",
   "execution_count": 102,
   "id": "76cf00ff",
   "metadata": {},
   "outputs": [],
   "source": [
    "def predict(train,test,predictors,model1):\n",
    "    model1.fit(train[predictors],train['Target'])\n",
    "    test_pred=model1.predict(test[predictors])\n",
    "    test_pred=pd.Series(test_pred,index=test.index,name='test_pred')\n",
    "    combined=pd.concat([test['Target'],test_pred],axis=1)\n",
    "    return combined"
   ]
  },
  {
   "cell_type": "code",
   "execution_count": 103,
   "id": "84452922",
   "metadata": {},
   "outputs": [],
   "source": [
    "def backtest(data,model,predictors,start=2500,step=250):\n",
    "    all_predictions=[]\n",
    "    for i in range(start,data.shape[0],step):\n",
    "        train=data.iloc[0:i]\n",
    "        test=data.iloc[i:(i+step)]\n",
    "        predictions=predict(train,test,predictors,model1)\n",
    "        all_predictions.append(predictions)\n",
    "    return pd.concat(all_predictions)"
   ]
  },
  {
   "cell_type": "code",
   "execution_count": 104,
   "id": "8eb10220",
   "metadata": {},
   "outputs": [],
   "source": [
    "predictions=backtest(sp500,model1,predictors)"
   ]
  },
  {
   "cell_type": "code",
   "execution_count": 105,
   "id": "8f8c87ff",
   "metadata": {},
   "outputs": [
    {
     "data": {
      "text/plain": [
       "['Open', 'Close', 'High', 'Low']"
      ]
     },
     "execution_count": 105,
     "metadata": {},
     "output_type": "execute_result"
    }
   ],
   "source": [
    "predictors"
   ]
  },
  {
   "cell_type": "code",
   "execution_count": 106,
   "id": "44bb3063",
   "metadata": {},
   "outputs": [
    {
     "data": {
      "text/plain": [
       "0    3391\n",
       "1    2558\n",
       "Name: test_pred, dtype: int64"
      ]
     },
     "execution_count": 106,
     "metadata": {},
     "output_type": "execute_result"
    }
   ],
   "source": [
    "predictions['test_pred'].value_counts()"
   ]
  },
  {
   "cell_type": "code",
   "execution_count": 107,
   "id": "35cb2f68",
   "metadata": {},
   "outputs": [
    {
     "data": {
      "text/plain": [
       "1    0.534039\n",
       "0    0.465961\n",
       "Name: Target, dtype: float64"
      ]
     },
     "execution_count": 107,
     "metadata": {},
     "output_type": "execute_result"
    }
   ],
   "source": [
    "predictions['Target'].value_counts()/predictions.shape[0]"
   ]
  },
  {
   "cell_type": "code",
   "execution_count": 108,
   "id": "c333f99c",
   "metadata": {},
   "outputs": [
    {
     "data": {
      "text/plain": [
       "0.5367474589523065"
      ]
     },
     "execution_count": 108,
     "metadata": {},
     "output_type": "execute_result"
    }
   ],
   "source": [
    "precision_score(predictions['Target'],predictions['test_pred'])"
   ]
  },
  {
   "cell_type": "code",
   "execution_count": 49,
   "id": "96e5b6c7",
   "metadata": {},
   "outputs": [],
   "source": [
    "##Adding Additional Predictors - By 3 days,1 week,3 months,1 year,4 years - calculating rolling averages...."
   ]
  },
  {
   "cell_type": "code",
   "execution_count": 51,
   "id": "1cd055c1",
   "metadata": {},
   "outputs": [],
   "source": [
    "horizons = [2,5,60,250,1000]\n",
    "new_predictors = []\n",
    "\n",
    "for horizon in horizons:\n",
    "    rolling_averages = sp500.rolling(horizon).mean()\n",
    "    \n",
    "    ratio_column = f\"Close_Ratio_{horizon}\"\n",
    "    sp500[ratio_column] = sp500[\"Close\"] / rolling_averages[\"Close\"]\n",
    "    \n",
    "    trend_column = f\"Trend_{horizon}\"\n",
    "    sp500[trend_column] = sp500.shift(1).rolling(horizon).sum()[\"Target\"]\n",
    "    \n",
    "    new_predictors+= [ratio_column, trend_column]"
   ]
  },
  {
   "cell_type": "code",
   "execution_count": 52,
   "id": "93ca8e5e",
   "metadata": {},
   "outputs": [
    {
     "data": {
      "text/plain": [
       "['Close_Ratio_2',\n",
       " 'Trend_2',\n",
       " 'Close_Ratio_5',\n",
       " 'Trend_5',\n",
       " 'Close_Ratio_60',\n",
       " 'Trend_60',\n",
       " 'Close_Ratio_250',\n",
       " 'Trend_250',\n",
       " 'Close_Ratio_1000',\n",
       " 'Trend_1000']"
      ]
     },
     "execution_count": 52,
     "metadata": {},
     "output_type": "execute_result"
    }
   ],
   "source": [
    "new_predictors"
   ]
  },
  {
   "cell_type": "code",
   "execution_count": 53,
   "id": "01ef3b52",
   "metadata": {},
   "outputs": [],
   "source": [
    "sp500 = sp500.dropna(subset=sp500.columns[sp500.columns != \"Tomorrow\"])"
   ]
  },
  {
   "cell_type": "code",
   "execution_count": 54,
   "id": "045e1a37",
   "metadata": {},
   "outputs": [
    {
     "data": {
      "text/html": [
       "<div>\n",
       "<style scoped>\n",
       "    .dataframe tbody tr th:only-of-type {\n",
       "        vertical-align: middle;\n",
       "    }\n",
       "\n",
       "    .dataframe tbody tr th {\n",
       "        vertical-align: top;\n",
       "    }\n",
       "\n",
       "    .dataframe thead th {\n",
       "        text-align: right;\n",
       "    }\n",
       "</style>\n",
       "<table border=\"1\" class=\"dataframe\">\n",
       "  <thead>\n",
       "    <tr style=\"text-align: right;\">\n",
       "      <th></th>\n",
       "      <th>Open</th>\n",
       "      <th>High</th>\n",
       "      <th>Low</th>\n",
       "      <th>Close</th>\n",
       "      <th>Volume</th>\n",
       "      <th>Tommorow</th>\n",
       "      <th>Target</th>\n",
       "      <th>Close_Ratio_2</th>\n",
       "      <th>Trend_2</th>\n",
       "      <th>Close_Ratio_5</th>\n",
       "      <th>Trend_5</th>\n",
       "      <th>Close_Ratio_60</th>\n",
       "      <th>Trend_60</th>\n",
       "      <th>Close_Ratio_250</th>\n",
       "      <th>Trend_250</th>\n",
       "      <th>Close_Ratio_1000</th>\n",
       "      <th>Trend_1000</th>\n",
       "    </tr>\n",
       "    <tr>\n",
       "      <th>Date</th>\n",
       "      <th></th>\n",
       "      <th></th>\n",
       "      <th></th>\n",
       "      <th></th>\n",
       "      <th></th>\n",
       "      <th></th>\n",
       "      <th></th>\n",
       "      <th></th>\n",
       "      <th></th>\n",
       "      <th></th>\n",
       "      <th></th>\n",
       "      <th></th>\n",
       "      <th></th>\n",
       "      <th></th>\n",
       "      <th></th>\n",
       "      <th></th>\n",
       "      <th></th>\n",
       "    </tr>\n",
       "  </thead>\n",
       "  <tbody>\n",
       "    <tr>\n",
       "      <th>1993-12-14 00:00:00-05:00</th>\n",
       "      <td>465.730011</td>\n",
       "      <td>466.119995</td>\n",
       "      <td>462.459991</td>\n",
       "      <td>463.059998</td>\n",
       "      <td>275050000</td>\n",
       "      <td>461.839996</td>\n",
       "      <td>0</td>\n",
       "      <td>0.997157</td>\n",
       "      <td>1.0</td>\n",
       "      <td>0.996617</td>\n",
       "      <td>1.0</td>\n",
       "      <td>1.000283</td>\n",
       "      <td>32.0</td>\n",
       "      <td>1.028047</td>\n",
       "      <td>127.0</td>\n",
       "      <td>1.176082</td>\n",
       "      <td>512.0</td>\n",
       "    </tr>\n",
       "    <tr>\n",
       "      <th>1993-12-15 00:00:00-05:00</th>\n",
       "      <td>463.059998</td>\n",
       "      <td>463.690002</td>\n",
       "      <td>461.839996</td>\n",
       "      <td>461.839996</td>\n",
       "      <td>331770000</td>\n",
       "      <td>463.339996</td>\n",
       "      <td>1</td>\n",
       "      <td>0.998681</td>\n",
       "      <td>0.0</td>\n",
       "      <td>0.995899</td>\n",
       "      <td>1.0</td>\n",
       "      <td>0.997329</td>\n",
       "      <td>32.0</td>\n",
       "      <td>1.025151</td>\n",
       "      <td>126.0</td>\n",
       "      <td>1.172676</td>\n",
       "      <td>512.0</td>\n",
       "    </tr>\n",
       "    <tr>\n",
       "      <th>1993-12-16 00:00:00-05:00</th>\n",
       "      <td>461.859985</td>\n",
       "      <td>463.980011</td>\n",
       "      <td>461.859985</td>\n",
       "      <td>463.339996</td>\n",
       "      <td>284620000</td>\n",
       "      <td>466.380005</td>\n",
       "      <td>1</td>\n",
       "      <td>1.001621</td>\n",
       "      <td>1.0</td>\n",
       "      <td>0.999495</td>\n",
       "      <td>2.0</td>\n",
       "      <td>1.000311</td>\n",
       "      <td>32.0</td>\n",
       "      <td>1.028274</td>\n",
       "      <td>127.0</td>\n",
       "      <td>1.176163</td>\n",
       "      <td>513.0</td>\n",
       "    </tr>\n",
       "    <tr>\n",
       "      <th>1993-12-17 00:00:00-05:00</th>\n",
       "      <td>463.339996</td>\n",
       "      <td>466.380005</td>\n",
       "      <td>463.339996</td>\n",
       "      <td>466.380005</td>\n",
       "      <td>363750000</td>\n",
       "      <td>465.850006</td>\n",
       "      <td>0</td>\n",
       "      <td>1.003270</td>\n",
       "      <td>2.0</td>\n",
       "      <td>1.004991</td>\n",
       "      <td>3.0</td>\n",
       "      <td>1.006561</td>\n",
       "      <td>32.0</td>\n",
       "      <td>1.034781</td>\n",
       "      <td>128.0</td>\n",
       "      <td>1.183537</td>\n",
       "      <td>514.0</td>\n",
       "    </tr>\n",
       "    <tr>\n",
       "      <th>1993-12-20 00:00:00-05:00</th>\n",
       "      <td>466.380005</td>\n",
       "      <td>466.899994</td>\n",
       "      <td>465.529999</td>\n",
       "      <td>465.850006</td>\n",
       "      <td>255900000</td>\n",
       "      <td>465.299988</td>\n",
       "      <td>0</td>\n",
       "      <td>0.999431</td>\n",
       "      <td>1.0</td>\n",
       "      <td>1.003784</td>\n",
       "      <td>2.0</td>\n",
       "      <td>1.005120</td>\n",
       "      <td>32.0</td>\n",
       "      <td>1.033359</td>\n",
       "      <td>128.0</td>\n",
       "      <td>1.181856</td>\n",
       "      <td>513.0</td>\n",
       "    </tr>\n",
       "    <tr>\n",
       "      <th>...</th>\n",
       "      <td>...</td>\n",
       "      <td>...</td>\n",
       "      <td>...</td>\n",
       "      <td>...</td>\n",
       "      <td>...</td>\n",
       "      <td>...</td>\n",
       "      <td>...</td>\n",
       "      <td>...</td>\n",
       "      <td>...</td>\n",
       "      <td>...</td>\n",
       "      <td>...</td>\n",
       "      <td>...</td>\n",
       "      <td>...</td>\n",
       "      <td>...</td>\n",
       "      <td>...</td>\n",
       "      <td>...</td>\n",
       "      <td>...</td>\n",
       "    </tr>\n",
       "    <tr>\n",
       "      <th>2023-07-10 00:00:00-04:00</th>\n",
       "      <td>4394.229980</td>\n",
       "      <td>4412.600098</td>\n",
       "      <td>4389.919922</td>\n",
       "      <td>4409.529785</td>\n",
       "      <td>3429600000</td>\n",
       "      <td>4439.259766</td>\n",
       "      <td>1</td>\n",
       "      <td>1.001201</td>\n",
       "      <td>1.0</td>\n",
       "      <td>0.996617</td>\n",
       "      <td>2.0</td>\n",
       "      <td>1.040931</td>\n",
       "      <td>32.0</td>\n",
       "      <td>1.096722</td>\n",
       "      <td>118.0</td>\n",
       "      <td>1.160905</td>\n",
       "      <td>532.0</td>\n",
       "    </tr>\n",
       "    <tr>\n",
       "      <th>2023-07-11 00:00:00-04:00</th>\n",
       "      <td>4415.549805</td>\n",
       "      <td>4443.640137</td>\n",
       "      <td>4408.459961</td>\n",
       "      <td>4439.259766</td>\n",
       "      <td>3624220000</td>\n",
       "      <td>4472.160156</td>\n",
       "      <td>1</td>\n",
       "      <td>1.003360</td>\n",
       "      <td>2.0</td>\n",
       "      <td>1.004078</td>\n",
       "      <td>2.0</td>\n",
       "      <td>1.046742</td>\n",
       "      <td>32.0</td>\n",
       "      <td>1.103435</td>\n",
       "      <td>119.0</td>\n",
       "      <td>1.168282</td>\n",
       "      <td>533.0</td>\n",
       "    </tr>\n",
       "    <tr>\n",
       "      <th>2023-07-12 00:00:00-04:00</th>\n",
       "      <td>4467.689941</td>\n",
       "      <td>4488.339844</td>\n",
       "      <td>4463.229980</td>\n",
       "      <td>4472.160156</td>\n",
       "      <td>3920290000</td>\n",
       "      <td>4510.040039</td>\n",
       "      <td>1</td>\n",
       "      <td>1.003692</td>\n",
       "      <td>2.0</td>\n",
       "      <td>1.010361</td>\n",
       "      <td>3.0</td>\n",
       "      <td>1.053115</td>\n",
       "      <td>33.0</td>\n",
       "      <td>1.110872</td>\n",
       "      <td>120.0</td>\n",
       "      <td>1.176480</td>\n",
       "      <td>533.0</td>\n",
       "    </tr>\n",
       "    <tr>\n",
       "      <th>2023-07-13 00:00:00-04:00</th>\n",
       "      <td>4491.500000</td>\n",
       "      <td>4517.379883</td>\n",
       "      <td>4489.359863</td>\n",
       "      <td>4510.040039</td>\n",
       "      <td>3839530000</td>\n",
       "      <td>4505.419922</td>\n",
       "      <td>0</td>\n",
       "      <td>1.004217</td>\n",
       "      <td>2.0</td>\n",
       "      <td>1.014407</td>\n",
       "      <td>4.0</td>\n",
       "      <td>1.060542</td>\n",
       "      <td>33.0</td>\n",
       "      <td>1.119481</td>\n",
       "      <td>121.0</td>\n",
       "      <td>1.185976</td>\n",
       "      <td>533.0</td>\n",
       "    </tr>\n",
       "    <tr>\n",
       "      <th>2023-07-14 00:00:00-04:00</th>\n",
       "      <td>4514.609863</td>\n",
       "      <td>4527.759766</td>\n",
       "      <td>4499.560059</td>\n",
       "      <td>4505.419922</td>\n",
       "      <td>3647450000</td>\n",
       "      <td>4522.790039</td>\n",
       "      <td>1</td>\n",
       "      <td>0.999488</td>\n",
       "      <td>1.0</td>\n",
       "      <td>1.008537</td>\n",
       "      <td>4.0</td>\n",
       "      <td>1.058002</td>\n",
       "      <td>32.0</td>\n",
       "      <td>1.117622</td>\n",
       "      <td>120.0</td>\n",
       "      <td>1.184298</td>\n",
       "      <td>532.0</td>\n",
       "    </tr>\n",
       "  </tbody>\n",
       "</table>\n",
       "<p>7448 rows × 17 columns</p>\n",
       "</div>"
      ],
      "text/plain": [
       "                                  Open         High          Low        Close  \\\n",
       "Date                                                                            \n",
       "1993-12-14 00:00:00-05:00   465.730011   466.119995   462.459991   463.059998   \n",
       "1993-12-15 00:00:00-05:00   463.059998   463.690002   461.839996   461.839996   \n",
       "1993-12-16 00:00:00-05:00   461.859985   463.980011   461.859985   463.339996   \n",
       "1993-12-17 00:00:00-05:00   463.339996   466.380005   463.339996   466.380005   \n",
       "1993-12-20 00:00:00-05:00   466.380005   466.899994   465.529999   465.850006   \n",
       "...                                ...          ...          ...          ...   \n",
       "2023-07-10 00:00:00-04:00  4394.229980  4412.600098  4389.919922  4409.529785   \n",
       "2023-07-11 00:00:00-04:00  4415.549805  4443.640137  4408.459961  4439.259766   \n",
       "2023-07-12 00:00:00-04:00  4467.689941  4488.339844  4463.229980  4472.160156   \n",
       "2023-07-13 00:00:00-04:00  4491.500000  4517.379883  4489.359863  4510.040039   \n",
       "2023-07-14 00:00:00-04:00  4514.609863  4527.759766  4499.560059  4505.419922   \n",
       "\n",
       "                               Volume     Tommorow  Target  Close_Ratio_2  \\\n",
       "Date                                                                        \n",
       "1993-12-14 00:00:00-05:00   275050000   461.839996       0       0.997157   \n",
       "1993-12-15 00:00:00-05:00   331770000   463.339996       1       0.998681   \n",
       "1993-12-16 00:00:00-05:00   284620000   466.380005       1       1.001621   \n",
       "1993-12-17 00:00:00-05:00   363750000   465.850006       0       1.003270   \n",
       "1993-12-20 00:00:00-05:00   255900000   465.299988       0       0.999431   \n",
       "...                               ...          ...     ...            ...   \n",
       "2023-07-10 00:00:00-04:00  3429600000  4439.259766       1       1.001201   \n",
       "2023-07-11 00:00:00-04:00  3624220000  4472.160156       1       1.003360   \n",
       "2023-07-12 00:00:00-04:00  3920290000  4510.040039       1       1.003692   \n",
       "2023-07-13 00:00:00-04:00  3839530000  4505.419922       0       1.004217   \n",
       "2023-07-14 00:00:00-04:00  3647450000  4522.790039       1       0.999488   \n",
       "\n",
       "                           Trend_2  Close_Ratio_5  Trend_5  Close_Ratio_60  \\\n",
       "Date                                                                         \n",
       "1993-12-14 00:00:00-05:00      1.0       0.996617      1.0        1.000283   \n",
       "1993-12-15 00:00:00-05:00      0.0       0.995899      1.0        0.997329   \n",
       "1993-12-16 00:00:00-05:00      1.0       0.999495      2.0        1.000311   \n",
       "1993-12-17 00:00:00-05:00      2.0       1.004991      3.0        1.006561   \n",
       "1993-12-20 00:00:00-05:00      1.0       1.003784      2.0        1.005120   \n",
       "...                            ...            ...      ...             ...   \n",
       "2023-07-10 00:00:00-04:00      1.0       0.996617      2.0        1.040931   \n",
       "2023-07-11 00:00:00-04:00      2.0       1.004078      2.0        1.046742   \n",
       "2023-07-12 00:00:00-04:00      2.0       1.010361      3.0        1.053115   \n",
       "2023-07-13 00:00:00-04:00      2.0       1.014407      4.0        1.060542   \n",
       "2023-07-14 00:00:00-04:00      1.0       1.008537      4.0        1.058002   \n",
       "\n",
       "                           Trend_60  Close_Ratio_250  Trend_250  \\\n",
       "Date                                                              \n",
       "1993-12-14 00:00:00-05:00      32.0         1.028047      127.0   \n",
       "1993-12-15 00:00:00-05:00      32.0         1.025151      126.0   \n",
       "1993-12-16 00:00:00-05:00      32.0         1.028274      127.0   \n",
       "1993-12-17 00:00:00-05:00      32.0         1.034781      128.0   \n",
       "1993-12-20 00:00:00-05:00      32.0         1.033359      128.0   \n",
       "...                             ...              ...        ...   \n",
       "2023-07-10 00:00:00-04:00      32.0         1.096722      118.0   \n",
       "2023-07-11 00:00:00-04:00      32.0         1.103435      119.0   \n",
       "2023-07-12 00:00:00-04:00      33.0         1.110872      120.0   \n",
       "2023-07-13 00:00:00-04:00      33.0         1.119481      121.0   \n",
       "2023-07-14 00:00:00-04:00      32.0         1.117622      120.0   \n",
       "\n",
       "                           Close_Ratio_1000  Trend_1000  \n",
       "Date                                                     \n",
       "1993-12-14 00:00:00-05:00          1.176082       512.0  \n",
       "1993-12-15 00:00:00-05:00          1.172676       512.0  \n",
       "1993-12-16 00:00:00-05:00          1.176163       513.0  \n",
       "1993-12-17 00:00:00-05:00          1.183537       514.0  \n",
       "1993-12-20 00:00:00-05:00          1.181856       513.0  \n",
       "...                                     ...         ...  \n",
       "2023-07-10 00:00:00-04:00          1.160905       532.0  \n",
       "2023-07-11 00:00:00-04:00          1.168282       533.0  \n",
       "2023-07-12 00:00:00-04:00          1.176480       533.0  \n",
       "2023-07-13 00:00:00-04:00          1.185976       533.0  \n",
       "2023-07-14 00:00:00-04:00          1.184298       532.0  \n",
       "\n",
       "[7448 rows x 17 columns]"
      ]
     },
     "execution_count": 54,
     "metadata": {},
     "output_type": "execute_result"
    }
   ],
   "source": [
    "sp500"
   ]
  },
  {
   "cell_type": "code",
   "execution_count": 55,
   "id": "964274d3",
   "metadata": {},
   "outputs": [],
   "source": [
    "model1= RandomForestClassifier(n_estimators=200, min_samples_split=50, random_state=1)"
   ]
  },
  {
   "cell_type": "code",
   "execution_count": 56,
   "id": "256ac2b6",
   "metadata": {},
   "outputs": [],
   "source": [
    "def predict(train, test, predictors, model):\n",
    "    model.fit(train[predictors], train[\"Target\"])\n",
    "    test_pred= model.predict_proba(test[predictors])[:,1]\n",
    "    test_pred[test_pred>=.6] = 1   #verifying confidence intervals if confidence greater than 60% then markig it 1\n",
    "    test_pred[test_pred<.6] = 0\n",
    "    test_pred= pd.Series(test_pred, index=test.index, name=\"Predictions\")\n",
    "    combined = pd.concat([test[\"Target\"],test_pred], axis=1)\n",
    "    return combined"
   ]
  },
  {
   "cell_type": "code",
   "execution_count": 58,
   "id": "c4b0be0f",
   "metadata": {},
   "outputs": [],
   "source": [
    "predictions = backtest(sp500, model1, new_predictors)"
   ]
  },
  {
   "cell_type": "code",
   "execution_count": 60,
   "id": "f909d007",
   "metadata": {},
   "outputs": [
    {
     "data": {
      "text/plain": [
       "0.0    4131\n",
       "1.0     817\n",
       "Name: Predictions, dtype: int64"
      ]
     },
     "execution_count": 60,
     "metadata": {},
     "output_type": "execute_result"
    }
   ],
   "source": [
    "predictions[\"Predictions\"].value_counts()"
   ]
  },
  {
   "cell_type": "code",
   "execution_count": 61,
   "id": "a5f2e60b",
   "metadata": {},
   "outputs": [
    {
     "data": {
      "text/html": [
       "<div>\n",
       "<style scoped>\n",
       "    .dataframe tbody tr th:only-of-type {\n",
       "        vertical-align: middle;\n",
       "    }\n",
       "\n",
       "    .dataframe tbody tr th {\n",
       "        vertical-align: top;\n",
       "    }\n",
       "\n",
       "    .dataframe thead th {\n",
       "        text-align: right;\n",
       "    }\n",
       "</style>\n",
       "<table border=\"1\" class=\"dataframe\">\n",
       "  <thead>\n",
       "    <tr style=\"text-align: right;\">\n",
       "      <th></th>\n",
       "      <th>Target</th>\n",
       "      <th>Predictions</th>\n",
       "    </tr>\n",
       "    <tr>\n",
       "      <th>Date</th>\n",
       "      <th></th>\n",
       "      <th></th>\n",
       "    </tr>\n",
       "  </thead>\n",
       "  <tbody>\n",
       "    <tr>\n",
       "      <th>2003-11-14 00:00:00-05:00</th>\n",
       "      <td>0</td>\n",
       "      <td>0.0</td>\n",
       "    </tr>\n",
       "    <tr>\n",
       "      <th>2003-11-17 00:00:00-05:00</th>\n",
       "      <td>0</td>\n",
       "      <td>1.0</td>\n",
       "    </tr>\n",
       "    <tr>\n",
       "      <th>2003-11-18 00:00:00-05:00</th>\n",
       "      <td>1</td>\n",
       "      <td>1.0</td>\n",
       "    </tr>\n",
       "    <tr>\n",
       "      <th>2003-11-19 00:00:00-05:00</th>\n",
       "      <td>0</td>\n",
       "      <td>0.0</td>\n",
       "    </tr>\n",
       "    <tr>\n",
       "      <th>2003-11-20 00:00:00-05:00</th>\n",
       "      <td>1</td>\n",
       "      <td>1.0</td>\n",
       "    </tr>\n",
       "    <tr>\n",
       "      <th>...</th>\n",
       "      <td>...</td>\n",
       "      <td>...</td>\n",
       "    </tr>\n",
       "    <tr>\n",
       "      <th>2023-07-10 00:00:00-04:00</th>\n",
       "      <td>1</td>\n",
       "      <td>0.0</td>\n",
       "    </tr>\n",
       "    <tr>\n",
       "      <th>2023-07-11 00:00:00-04:00</th>\n",
       "      <td>1</td>\n",
       "      <td>0.0</td>\n",
       "    </tr>\n",
       "    <tr>\n",
       "      <th>2023-07-12 00:00:00-04:00</th>\n",
       "      <td>1</td>\n",
       "      <td>0.0</td>\n",
       "    </tr>\n",
       "    <tr>\n",
       "      <th>2023-07-13 00:00:00-04:00</th>\n",
       "      <td>0</td>\n",
       "      <td>0.0</td>\n",
       "    </tr>\n",
       "    <tr>\n",
       "      <th>2023-07-14 00:00:00-04:00</th>\n",
       "      <td>1</td>\n",
       "      <td>0.0</td>\n",
       "    </tr>\n",
       "  </tbody>\n",
       "</table>\n",
       "<p>4948 rows × 2 columns</p>\n",
       "</div>"
      ],
      "text/plain": [
       "                           Target  Predictions\n",
       "Date                                          \n",
       "2003-11-14 00:00:00-05:00       0          0.0\n",
       "2003-11-17 00:00:00-05:00       0          1.0\n",
       "2003-11-18 00:00:00-05:00       1          1.0\n",
       "2003-11-19 00:00:00-05:00       0          0.0\n",
       "2003-11-20 00:00:00-05:00       1          1.0\n",
       "...                           ...          ...\n",
       "2023-07-10 00:00:00-04:00       1          0.0\n",
       "2023-07-11 00:00:00-04:00       1          0.0\n",
       "2023-07-12 00:00:00-04:00       1          0.0\n",
       "2023-07-13 00:00:00-04:00       0          0.0\n",
       "2023-07-14 00:00:00-04:00       1          0.0\n",
       "\n",
       "[4948 rows x 2 columns]"
      ]
     },
     "execution_count": 61,
     "metadata": {},
     "output_type": "execute_result"
    }
   ],
   "source": [
    "predictions"
   ]
  },
  {
   "cell_type": "code",
   "execution_count": 62,
   "id": "5abac4a7",
   "metadata": {},
   "outputs": [
    {
     "data": {
      "text/plain": [
       "0.5691554467564259"
      ]
     },
     "execution_count": 62,
     "metadata": {},
     "output_type": "execute_result"
    }
   ],
   "source": [
    "precision_score(predictions['Target'],predictions['Predictions'])"
   ]
  }
 ],
 "metadata": {
  "kernelspec": {
   "display_name": "Python 3 (ipykernel)",
   "language": "python",
   "name": "python3"
  },
  "language_info": {
   "codemirror_mode": {
    "name": "ipython",
    "version": 3
   },
   "file_extension": ".py",
   "mimetype": "text/x-python",
   "name": "python",
   "nbconvert_exporter": "python",
   "pygments_lexer": "ipython3",
   "version": "3.9.12"
  }
 },
 "nbformat": 4,
 "nbformat_minor": 5
}
